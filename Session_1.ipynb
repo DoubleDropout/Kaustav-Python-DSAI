{
  "nbformat": 4,
  "nbformat_minor": 0,
  "metadata": {
    "colab": {
      "provenance": [],
      "authorship_tag": "ABX9TyMU6a8scuyZvHu6NEimoWAU",
      "include_colab_link": true
    },
    "kernelspec": {
      "name": "python3",
      "display_name": "Python 3"
    },
    "language_info": {
      "name": "python"
    }
  },
  "cells": [
    {
      "cell_type": "markdown",
      "metadata": {
        "id": "view-in-github",
        "colab_type": "text"
      },
      "source": [
        "<a href=\"https://colab.research.google.com/github/DoubleDropout/Kaustav-Python-DSAI/blob/main/Session_1.ipynb\" target=\"_parent\"><img src=\"https://colab.research.google.com/assets/colab-badge.svg\" alt=\"Open In Colab\"/></a>"
      ]
    },
    {
      "cell_type": "markdown",
      "source": [
        "# Python Refresher\n",
        "\n",
        "---\n",
        "\n",
        "Datatypes: Different boxes to put suitable Items in.\n",
        "\n",
        "~~~\n",
        "age = 25  # Integer\n",
        "~~~\n",
        "lorem\n",
        "~~~\n",
        "price = 199.99  # Float\n",
        "~~~\n",
        "lorem\n",
        "~~~\n",
        "name = \"Data Science\"  # String\n",
        "~~~\n",
        "lorem\n",
        "~~~\n",
        "is_student = True  # Boolean\n",
        "~~~\n",
        "lorem\n",
        "~~~\n",
        "fruits = [\"Apple\", \"Banana\", \"Mango\"]  # List\n",
        "~~~\n",
        "lorem\n",
        "~~~\n",
        "coordinates = (10, 20)  # Tuple\n",
        "~~~\n",
        "lorem\n",
        "~~~\n",
        "student = {\"name\": \"John\", \"age\": 21, \"marks\": [85, 90, 95]}  # Dictionary\n",
        "~~~\n",
        "lorem\n",
        "\n",
        "\n",
        "\n"
      ],
      "metadata": {
        "id": "LGpk233S9zxk"
      }
    },
    {
      "cell_type": "code",
      "execution_count": null,
      "metadata": {
        "id": "_MJ4NDx39spB"
      },
      "outputs": [],
      "source": []
    }
  ]
}